{
 "cells": [
  {
   "cell_type": "markdown",
   "id": "6835f249",
   "metadata": {},
   "source": [
    "## 1-Read Data and Process"
   ]
  },
  {
   "cell_type": "code",
   "execution_count": 1,
   "id": "716a3d47",
   "metadata": {},
   "outputs": [],
   "source": [
    "from glob import glob\n",
    "import os\n",
    "import numpy as np\n",
    "import pandas\n",
    "import matplotlib.pyplot as plt\n",
    "import tensorflow as tf"
   ]
  },
  {
   "cell_type": "code",
   "execution_count": 2,
   "id": "f5adf16a",
   "metadata": {},
   "outputs": [
    {
     "name": "stdout",
     "output_type": "stream",
     "text": [
      "Requirement already satisfied: mne in c:\\programdata\\anaconda3\\envs\\tf\\lib\\site-packages (0.24.1)\n",
      "Requirement already satisfied: scipy>=1.1.0 in c:\\programdata\\anaconda3\\envs\\tf\\lib\\site-packages (from mne) (1.7.1)\n",
      "Requirement already satisfied: numpy>=1.15.4 in c:\\programdata\\anaconda3\\envs\\tf\\lib\\site-packages (from mne) (1.20.3)\n"
     ]
    }
   ],
   "source": [
    "!pip install mne"
   ]
  },
  {
   "cell_type": "code",
   "execution_count": 3,
   "id": "ce8361a6",
   "metadata": {},
   "outputs": [],
   "source": [
    "import mne"
   ]
  },
  {
   "cell_type": "code",
   "execution_count": 4,
   "id": "b1b6e956",
   "metadata": {},
   "outputs": [
    {
     "data": {
      "text/plain": [
       "['EEG_Data\\\\h01.edf',\n",
       " 'EEG_Data\\\\h02.edf',\n",
       " 'EEG_Data\\\\h03.edf',\n",
       " 'EEG_Data\\\\h04.edf',\n",
       " 'EEG_Data\\\\h05.edf',\n",
       " 'EEG_Data\\\\h06.edf',\n",
       " 'EEG_Data\\\\h07.edf',\n",
       " 'EEG_Data\\\\h08.edf',\n",
       " 'EEG_Data\\\\h09.edf',\n",
       " 'EEG_Data\\\\h10.edf',\n",
       " 'EEG_Data\\\\h11.edf',\n",
       " 'EEG_Data\\\\h12.edf',\n",
       " 'EEG_Data\\\\h13.edf',\n",
       " 'EEG_Data\\\\h14.edf',\n",
       " 'EEG_Data\\\\s01.edf',\n",
       " 'EEG_Data\\\\s02.edf',\n",
       " 'EEG_Data\\\\s03.edf',\n",
       " 'EEG_Data\\\\s04.edf',\n",
       " 'EEG_Data\\\\s05.edf',\n",
       " 'EEG_Data\\\\s06.edf',\n",
       " 'EEG_Data\\\\s07.edf',\n",
       " 'EEG_Data\\\\s08.edf',\n",
       " 'EEG_Data\\\\s09.edf',\n",
       " 'EEG_Data\\\\s10.edf',\n",
       " 'EEG_Data\\\\s11.edf',\n",
       " 'EEG_Data\\\\s12.edf',\n",
       " 'EEG_Data\\\\s13.edf',\n",
       " 'EEG_Data\\\\s14.edf']"
      ]
     },
     "execution_count": 4,
     "metadata": {},
     "output_type": "execute_result"
    }
   ],
   "source": [
    "glob('EEG_Data/*edf')"
   ]
  },
  {
   "cell_type": "code",
   "execution_count": 5,
   "id": "c28bb910",
   "metadata": {},
   "outputs": [
    {
     "name": "stdout",
     "output_type": "stream",
     "text": [
      "28\n"
     ]
    }
   ],
   "source": [
    "all_file_path=glob('EEG_Data/*edf')\n",
    "print(len(all_file_path))"
   ]
  },
  {
   "cell_type": "code",
   "execution_count": 6,
   "id": "e2828cef",
   "metadata": {},
   "outputs": [
    {
     "data": {
      "text/plain": [
       "'EEG_Data\\\\h01.edf'"
      ]
     },
     "execution_count": 6,
     "metadata": {},
     "output_type": "execute_result"
    }
   ],
   "source": [
    "all_file_path[0]"
   ]
  },
  {
   "cell_type": "code",
   "execution_count": 7,
   "id": "dc684028",
   "metadata": {},
   "outputs": [
    {
     "name": "stdout",
     "output_type": "stream",
     "text": [
      "14 14\n"
     ]
    }
   ],
   "source": [
    "healthy_file_path =[i for i in all_file_path if 'h' in i.split('\\\\')[1] ]\n",
    "patient_file_path =[i for i in all_file_path if 's' in i.split('\\\\')[1] ]\n",
    "print (len(healthy_file_path),len(patient_file_path ))\n",
    "\n"
   ]
  },
  {
   "cell_type": "code",
   "execution_count": 8,
   "id": "ba57aa8f",
   "metadata": {},
   "outputs": [],
   "source": [
    "def read_data(file_path):\n",
    "    data=mne.io.read_raw_edf(file_path, preload=True)\n",
    "    data.set_eeg_reference()\n",
    "    data.filter(l_freq=0.5,h_freq=45)\n",
    "    #data.filter(l_freq=0.1,h_freq=60)\n",
    "    epochs=mne.make_fixed_length_epochs(data,duration=5,overlap=1)\n",
    "    #epochs=mne.make_fixed_length_epochs(data,duration=3,overlap=1)\n",
    "    array=epochs.get_data()\n",
    "    return array\n"
   ]
  },
  {
   "cell_type": "code",
   "execution_count": 9,
   "id": "325821bb",
   "metadata": {},
   "outputs": [
    {
     "name": "stdout",
     "output_type": "stream",
     "text": [
      "Extracting EDF parameters from D:\\notebooks\\EEG_Pro\\EEG_Data\\h01.edf...\n",
      "EDF file detected\n",
      "Setting channel info structure...\n",
      "Creating raw.info structure...\n",
      "Reading 0 ... 231249  =      0.000 ...   924.996 secs...\n",
      "EEG channel type selected for re-referencing\n",
      "Applying average reference.\n",
      "Applying a custom ('EEG',) reference.\n",
      "Filtering raw data in 1 contiguous segment\n",
      "Setting up band-pass filter from 0.5 - 45 Hz\n",
      "\n",
      "FIR filter parameters\n",
      "---------------------\n",
      "Designing a one-pass, zero-phase, non-causal bandpass filter:\n",
      "- Windowed time-domain design (firwin) method\n",
      "- Hamming window with 0.0194 passband ripple and 53 dB stopband attenuation\n",
      "- Lower passband edge: 0.50\n",
      "- Lower transition bandwidth: 0.50 Hz (-6 dB cutoff frequency: 0.25 Hz)\n",
      "- Upper passband edge: 45.00 Hz\n",
      "- Upper transition bandwidth: 11.25 Hz (-6 dB cutoff frequency: 50.62 Hz)\n",
      "- Filter length: 1651 samples (6.604 sec)\n",
      "\n",
      "Not setting metadata\n",
      "Not setting metadata\n",
      "231 matching events found\n",
      "No baseline correction applied\n",
      "0 projection items activated\n",
      "Loading data for 231 events and 1250 original time points ...\n",
      "0 bad epochs dropped\n"
     ]
    }
   ],
   "source": [
    "sample_data=read_data(healthy_file_path[0])"
   ]
  },
  {
   "cell_type": "code",
   "execution_count": 10,
   "id": "314db922",
   "metadata": {},
   "outputs": [
    {
     "data": {
      "text/plain": [
       "(231, 19, 1250)"
      ]
     },
     "execution_count": 10,
     "metadata": {},
     "output_type": "execute_result"
    }
   ],
   "source": [
    "sample_data.shape            #no of epochs, channels, Length of signal"
   ]
  },
  {
   "cell_type": "code",
   "execution_count": 11,
   "id": "2c216c6e",
   "metadata": {},
   "outputs": [],
   "source": [
    "%%capture\n",
    "control_epochs_array=[read_data(i) for i in healthy_file_path]\n",
    "patient_epochs_array=[read_data(i) for i in patient_file_path]"
   ]
  },
  {
   "cell_type": "code",
   "execution_count": 12,
   "id": "54e1e160",
   "metadata": {},
   "outputs": [
    {
     "data": {
      "text/plain": [
       "((231, 19, 1250), (227, 19, 1250))"
      ]
     },
     "execution_count": 12,
     "metadata": {},
     "output_type": "execute_result"
    }
   ],
   "source": [
    "control_epochs_array[0].shape,control_epochs_array[1].shape"
   ]
  },
  {
   "cell_type": "code",
   "execution_count": 13,
   "id": "dcdbd66a",
   "metadata": {},
   "outputs": [
    {
     "data": {
      "text/plain": [
       "(14, 14)"
      ]
     },
     "execution_count": 13,
     "metadata": {},
     "output_type": "execute_result"
    }
   ],
   "source": [
    "control_epochs_labels=[len(i)*[0] for i in control_epochs_array]\n",
    "patient_epochs_labels=[len(i)*[1] for i in patient_epochs_array]\n",
    "len(control_epochs_labels) , len(patient_epochs_labels)"
   ]
  },
  {
   "cell_type": "code",
   "execution_count": 14,
   "id": "0845bf6e",
   "metadata": {},
   "outputs": [
    {
     "name": "stdout",
     "output_type": "stream",
     "text": [
      "28 28\n"
     ]
    }
   ],
   "source": [
    "epochs_array=control_epochs_array+patient_epochs_array\n",
    "epochs_labels=control_epochs_labels+patient_epochs_labels\n",
    "print(len(epochs_array), len(epochs_labels))"
   ]
  },
  {
   "cell_type": "code",
   "execution_count": 15,
   "id": "cbd18494",
   "metadata": {},
   "outputs": [],
   "source": [
    "data_list=control_epochs_array+patient_epochs_array\n",
    "label_list=control_epochs_labels+patient_epochs_labels\n"
   ]
  },
  {
   "cell_type": "code",
   "execution_count": 16,
   "id": "8e0abff0",
   "metadata": {},
   "outputs": [
    {
     "data": {
      "text/plain": [
       "28"
      ]
     },
     "execution_count": 16,
     "metadata": {},
     "output_type": "execute_result"
    }
   ],
   "source": [
    "group_list=[[i]*len(j) for i,j in enumerate(data_list)]\n",
    "len(group_list)"
   ]
  },
  {
   "cell_type": "code",
   "execution_count": 17,
   "id": "1313d3f9",
   "metadata": {},
   "outputs": [
    {
     "name": "stdout",
     "output_type": "stream",
     "text": [
      "(7201, 19, 1250) (7201,) (7201,)\n"
     ]
    }
   ],
   "source": [
    "data_array=np.vstack(data_list)\n",
    "label_array=np.hstack(label_list)\n",
    "group_array=np.hstack(group_list)\n",
    "print(data_array.shape,label_array.shape, group_array.shape)"
   ]
  },
  {
   "cell_type": "markdown",
   "id": "43f64047",
   "metadata": {},
   "source": [
    "## Machine Learning Classification"
   ]
  },
  {
   "cell_type": "code",
   "execution_count": 18,
   "id": "c4b1f29a",
   "metadata": {},
   "outputs": [],
   "source": [
    "from scipy import stats\n",
    "def mean(x):\n",
    "    return np.mean(x,axis=-1) \n",
    "def std(x):\n",
    "    return np.std(x,axis=-1) \n",
    "def ptp(x): \n",
    "    return np.ptp(x,axis=-1) \n",
    "def var(x):\n",
    "     return np.var(x,axis=1)\n",
    "def minim(x):\n",
    "    return np.min(x,axis=-1) \n",
    "def maxim(x): \n",
    "    return np.max(x,axis=-1) \n",
    "def argminim(x):\n",
    "    return np.argmin(x,axis=-1) \n",
    "def argmaxim(x):\n",
    "    return np.argmax(x,axis=-1) \n",
    "def rms(x): \n",
    "    return np.sqrt(np.mean(x**2,axis=-1)) \n",
    "def abs_diff_signal(x):\n",
    "    return np.sum(np.abs(np.diff(x,axis=-1)),axis=-1)\n",
    "def skewness(x):\n",
    "    return stats.skew(x,axis=-1) \n",
    "def kurtosis(x):\n",
    "    return stats.kurtosis(x,axis=-1) \n",
    "def concatenate_features(x): \n",
    "    return np.concatenate((mean(x),std(x),ptp(x),var(x),minim(x),maxim(x),argminim(x), \n",
    "           argmaxim(x),rms(x),abs_diff_signal(x),skewness(x),kurtosis(x)),axis=-1) "
   ]
  },
  {
   "cell_type": "code",
   "execution_count": 19,
   "id": "83dfbac0",
   "metadata": {},
   "outputs": [],
   "source": [
    "#mean(d).shape "
   ]
  },
  {
   "cell_type": "code",
   "execution_count": 20,
   "id": "84d1b6a0",
   "metadata": {},
   "outputs": [],
   "source": [
    "#std(d).shape "
   ]
  },
  {
   "cell_type": "code",
   "execution_count": 21,
   "id": "593b1460",
   "metadata": {},
   "outputs": [],
   "source": [
    "#abs_diff_signal(d).shape "
   ]
  },
  {
   "cell_type": "code",
   "execution_count": 22,
   "id": "fa396d34",
   "metadata": {},
   "outputs": [],
   "source": [
    "features=[]\n",
    "for d in data_array:\n",
    "    features.append(concatenate_features(d)) "
   ]
  },
  {
   "cell_type": "code",
   "execution_count": 23,
   "id": "b6585e17",
   "metadata": {},
   "outputs": [
    {
     "data": {
      "text/plain": [
       "(7201, 228)"
      ]
     },
     "execution_count": 23,
     "metadata": {},
     "output_type": "execute_result"
    }
   ],
   "source": [
    "features_array=np.array(features)\n",
    "features_array.shape "
   ]
  },
  {
   "cell_type": "code",
   "execution_count": 24,
   "id": "a82ec8c8",
   "metadata": {},
   "outputs": [],
   "source": [
    "from sklearn.linear_model import LogisticRegression \n",
    "from sklearn.pipeline import Pipeline\n",
    "from sklearn.preprocessing import StandardScaler\n",
    "from sklearn.model_selection import GroupKFold,GridSearchCV "
   ]
  },
  {
   "cell_type": "code",
   "execution_count": 25,
   "id": "c1fe896c",
   "metadata": {},
   "outputs": [
    {
     "name": "stderr",
     "output_type": "stream",
     "text": [
      "C:\\ProgramData\\Anaconda3\\envs\\tf\\lib\\site-packages\\sklearn\\linear_model\\_logistic.py:814: ConvergenceWarning: lbfgs failed to converge (status=1):\n",
      "STOP: TOTAL NO. of ITERATIONS REACHED LIMIT.\n",
      "\n",
      "Increase the number of iterations (max_iter) or scale the data as shown in:\n",
      "    https://scikit-learn.org/stable/modules/preprocessing.html\n",
      "Please also refer to the documentation for alternative solver options:\n",
      "    https://scikit-learn.org/stable/modules/linear_model.html#logistic-regression\n",
      "  n_iter_i = _check_optimize_result(\n"
     ]
    },
    {
     "data": {
      "text/plain": [
       "GridSearchCV(cv=GroupKFold(n_splits=5),\n",
       "             estimator=Pipeline(steps=[('scalers', StandardScaler()),\n",
       "                                       ('clf', LogisticRegression())]),\n",
       "             n_jobs=12, param_grid={'clf__C': [0.1, 0.5, 0.7, 1, 3, 5, 7]})"
      ]
     },
     "execution_count": 25,
     "metadata": {},
     "output_type": "execute_result"
    }
   ],
   "source": [
    "clf=LogisticRegression() \n",
    "gkf=GroupKFold(5) \n",
    "pipe=Pipeline([('scalers',StandardScaler()),('clf',clf)]) \n",
    "param_grid={'clf__C':[0.1,0.5,0.7,1,3,5,7]} \n",
    "#param_grid = {'n__neighbors': np.arange(1, 12, 2)}\n",
    "gscv=GridSearchCV(pipe,param_grid,cv=gkf,n_jobs=12) \n",
    "gscv.fit(features_array, label_array,groups=group_array) \n",
    "#param_grid = {'n_neighbors','clf__C': np.arange(1, 12, 2)}"
   ]
  },
  {
   "cell_type": "code",
   "execution_count": 26,
   "id": "d6c3766f",
   "metadata": {},
   "outputs": [
    {
     "name": "stdout",
     "output_type": "stream",
     "text": [
      "Best params: {'clf__C': 0.7}\n",
      "Best score: 0.6631887188110056\n"
     ]
    }
   ],
   "source": [
    "print(\"Best params:\", gscv.best_params_)\n",
    "print(\"Best score:\", gscv.best_score_)"
   ]
  },
  {
   "cell_type": "markdown",
   "id": "f863c5f0",
   "metadata": {},
   "source": [
    "## Deep learning Classification using deep 1D convolutional neural network"
   ]
  },
  {
   "cell_type": "code",
   "execution_count": 27,
   "id": "a8d14c0e",
   "metadata": {},
   "outputs": [],
   "source": [
    "import tensorflow as tf \n",
    "# physical_devices = tf.config.list_physical_devices('GPU') \n",
    "# tf.config.experimental.set_memory_growth(physical_devices[0], True) \n"
   ]
  },
  {
   "cell_type": "code",
   "execution_count": 28,
   "id": "a89ef4a6",
   "metadata": {},
   "outputs": [],
   "source": [
    "epochs_array =np.vstack(epochs_array) \n",
    "epochs_labels=np.hstack(epochs_labels)\n",
    "groups_array=np.hstack(group_list) "
   ]
  },
  {
   "cell_type": "code",
   "execution_count": 29,
   "id": "3e7fc5d4",
   "metadata": {},
   "outputs": [
    {
     "data": {
      "text/plain": [
       "((7201, 19, 1250), (7201,), (7201,))"
      ]
     },
     "execution_count": 29,
     "metadata": {},
     "output_type": "execute_result"
    }
   ],
   "source": [
    "epochs_array.shape,epochs_labels.shape,groups_array.shape \n",
    "\n"
   ]
  },
  {
   "cell_type": "code",
   "execution_count": 30,
   "id": "9a18ae14",
   "metadata": {},
   "outputs": [
    {
     "data": {
      "text/plain": [
       "(7201, 1250, 19)"
      ]
     },
     "execution_count": 30,
     "metadata": {},
     "output_type": "execute_result"
    }
   ],
   "source": [
    "epochs_array=np.moveaxis(epochs_array,1,2)\n",
    "epochs_array.shape"
   ]
  },
  {
   "cell_type": "code",
   "execution_count": 31,
   "id": "f289bafc",
   "metadata": {},
   "outputs": [
    {
     "name": "stdout",
     "output_type": "stream",
     "text": [
      "Model: \"sequential\"\n",
      "_________________________________________________________________\n",
      "Layer (type)                 Output Shape              Param #   \n",
      "=================================================================\n",
      "conv1d (Conv1D)              (None, 1248, 5)           290       \n",
      "_________________________________________________________________\n",
      "batch_normalization (BatchNo (None, 1248, 5)           20        \n",
      "_________________________________________________________________\n",
      "leaky_re_lu (LeakyReLU)      (None, 1248, 5)           0         \n",
      "_________________________________________________________________\n",
      "max_pooling1d (MaxPooling1D) (None, 624, 5)            0         \n",
      "_________________________________________________________________\n",
      "conv1d_1 (Conv1D)            (None, 622, 5)            80        \n",
      "_________________________________________________________________\n",
      "leaky_re_lu_1 (LeakyReLU)    (None, 622, 5)            0         \n",
      "_________________________________________________________________\n",
      "max_pooling1d_1 (MaxPooling1 (None, 311, 5)            0         \n",
      "_________________________________________________________________\n",
      "dropout (Dropout)            (None, 311, 5)            0         \n",
      "_________________________________________________________________\n",
      "conv1d_2 (Conv1D)            (None, 309, 5)            80        \n",
      "_________________________________________________________________\n",
      "leaky_re_lu_2 (LeakyReLU)    (None, 309, 5)            0         \n",
      "_________________________________________________________________\n",
      "average_pooling1d (AveragePo (None, 154, 5)            0         \n",
      "_________________________________________________________________\n",
      "dropout_1 (Dropout)          (None, 154, 5)            0         \n",
      "_________________________________________________________________\n",
      "conv1d_3 (Conv1D)            (None, 152, 5)            80        \n",
      "_________________________________________________________________\n",
      "leaky_re_lu_3 (LeakyReLU)    (None, 152, 5)            0         \n",
      "_________________________________________________________________\n",
      "average_pooling1d_1 (Average (None, 76, 5)             0         \n",
      "_________________________________________________________________\n",
      "conv1d_4 (Conv1D)            (None, 74, 5)             80        \n",
      "_________________________________________________________________\n",
      "leaky_re_lu_4 (LeakyReLU)    (None, 74, 5)             0         \n",
      "_________________________________________________________________\n",
      "global_average_pooling1d (Gl (None, 5)                 0         \n",
      "_________________________________________________________________\n",
      "dense (Dense)                (None, 1)                 6         \n",
      "=================================================================\n",
      "Total params: 636\n",
      "Trainable params: 626\n",
      "Non-trainable params: 10\n",
      "_________________________________________________________________\n"
     ]
    }
   ],
   "source": [
    "from tensorflow.keras.layers import Conv1D,BatchNormalization,LeakyReLU,MaxPool1D,\\\n",
    "GlobalAveragePooling1D,Dense,Dropout,AveragePooling1D \n",
    "from tensorflow.keras.models import Sequential\n",
    "from tensorflow.keras.backend import clear_session \n",
    "def cnnmodel():\n",
    "    clear_session() \n",
    "    model=Sequential()\n",
    "    model.add(Conv1D(filters=5,kernel_size=3,strides=1,input_shape=(1250,19)))#1 \n",
    "    model.add(BatchNormalization())\n",
    "    model.add(LeakyReLU())\n",
    "    model.add(MaxPool1D(pool_size=2,strides=2))#2 \n",
    "    model.add(Conv1D(filters=5,kernel_size=3,strides=1))#3 \n",
    "    model.add(LeakyReLU())\n",
    "    model.add(MaxPool1D(pool_size=2,strides=2))#4\n",
    "    model.add(Dropout(0.5)) \n",
    "    model.add(Conv1D(filters=5,kernel_size=3,strides=1))#5\n",
    "    model.add(LeakyReLU()) \n",
    "    model.add(AveragePooling1D(pool_size=2,strides=2))#6 \n",
    "    model.add(Dropout(0.5))\n",
    "    model.add(Conv1D(filters=5,kernel_size=3,strides=1))#7\n",
    "    model.add(LeakyReLU()) \n",
    "    model. add(AveragePooling1D(pool_size=2, strides=2))#8 \n",
    "    model.add(Conv1D(filters=5,kernel_size=3,strides=1))#9 \n",
    "    model.add(LeakyReLU()) \n",
    "    model.add(GlobalAveragePooling1D())#10\n",
    "    model.add(Dense(1,activation='sigmoid'))#11 \n",
    "    model.compile('adam',loss='binary_crossentropy',metrics=['accuracy']) \n",
    "    return model \n",
    "\n",
    "model=cnnmodel() \n",
    "model. summary() \n",
    "\n"
   ]
  },
  {
   "cell_type": "code",
   "execution_count": 32,
   "id": "82906307",
   "metadata": {},
   "outputs": [],
   "source": [
    "from sklearn.model_selection import GroupKFold, LeaveOneGroupOut\n",
    "from sklearn.preprocessing import StandardScaler\n",
    "gkf=GroupKFold() \n",
    "\n"
   ]
  },
  {
   "cell_type": "code",
   "execution_count": 33,
   "id": "5ebe419b",
   "metadata": {},
   "outputs": [],
   "source": [
    "import numpy as np\n",
    "\n",
    "img = np.random.random((28, 28))\n",
    "image = np.array(img, dtype='float64') / 255.\n",
    "image = np.expand_dims(image, axis=0)\n",
    "image = image.reshape(image.shape + (1,))"
   ]
  },
  {
   "cell_type": "code",
   "execution_count": 40,
   "id": "0e331df2",
   "metadata": {
    "scrolled": false
   },
   "outputs": [
    {
     "name": "stdout",
     "output_type": "stream",
     "text": [
      "Epoch 1/10\n",
      "180/180 [==============================] - 20s 105ms/step - loss: 0.6627 - accuracy: 0.5822 - val_loss: 0.6890 - val_accuracy: 0.3734\n",
      "Epoch 2/10\n",
      "180/180 [==============================] - 13s 71ms/step - loss: 0.5701 - accuracy: 0.7006 - val_loss: 0.4519 - val_accuracy: 0.8243\n",
      "Epoch 3/10\n",
      "180/180 [==============================] - 10s 53ms/step - loss: 0.4704 - accuracy: 0.8031 - val_loss: 0.4568 - val_accuracy: 0.7872\n",
      "Epoch 4/10\n",
      "180/180 [==============================] - 19s 108ms/step - loss: 0.4386 - accuracy: 0.8221 - val_loss: 0.3886 - val_accuracy: 0.8415\n",
      "Epoch 5/10\n",
      "180/180 [==============================] - 4s 24ms/step - loss: 0.4050 - accuracy: 0.8388 - val_loss: 0.3990 - val_accuracy: 0.8435\n",
      "Epoch 6/10\n",
      "180/180 [==============================] - 3s 16ms/step - loss: 0.3781 - accuracy: 0.8534 - val_loss: 0.3922 - val_accuracy: 0.8250\n",
      "Epoch 7/10\n",
      "180/180 [==============================] - 3s 16ms/step - loss: 0.3492 - accuracy: 0.8708 - val_loss: 0.3940 - val_accuracy: 0.8367\n",
      "Epoch 8/10\n",
      "180/180 [==============================] - 3s 16ms/step - loss: 0.3204 - accuracy: 0.8790 - val_loss: 0.3607 - val_accuracy: 0.8476\n",
      "Epoch 9/10\n",
      "180/180 [==============================] - 3s 16ms/step - loss: 0.2835 - accuracy: 0.9008 - val_loss: 0.3882 - val_accuracy: 0.8325\n",
      "Epoch 10/10\n",
      "180/180 [==============================] - 23s 131ms/step - loss: 0.2581 - accuracy: 0.9112 - val_loss: 0.3785 - val_accuracy: 0.8490\n",
      "46/46 [==============================] - 0s 7ms/step - loss: 0.3785 - accuracy: 0.8490\n",
      "Epoch 1/10\n",
      "179/179 [==============================] - 25s 132ms/step - loss: 0.6601 - accuracy: 0.5570 - val_loss: 0.6616 - val_accuracy: 0.6154\n",
      "Epoch 2/10\n",
      "179/179 [==============================] - 23s 130ms/step - loss: 0.5776 - accuracy: 0.6887 - val_loss: 0.7417 - val_accuracy: 0.5227\n",
      "Epoch 3/10\n",
      "179/179 [==============================] - 21s 119ms/step - loss: 0.3974 - accuracy: 0.8347 - val_loss: 0.7557 - val_accuracy: 0.5362\n",
      "Epoch 4/10\n",
      "179/179 [==============================] - 19s 106ms/step - loss: 0.2972 - accuracy: 0.8770 - val_loss: 0.9380 - val_accuracy: 0.5796\n",
      "Epoch 5/10\n",
      "179/179 [==============================] - 23s 128ms/step - loss: 0.2422 - accuracy: 0.9058 - val_loss: 0.8717 - val_accuracy: 0.6121\n",
      "Epoch 6/10\n",
      "179/179 [==============================] - 22s 121ms/step - loss: 0.2311 - accuracy: 0.9083 - val_loss: 0.8684 - val_accuracy: 0.6181\n",
      "Epoch 7/10\n",
      "179/179 [==============================] - 23s 126ms/step - loss: 0.1999 - accuracy: 0.9278 - val_loss: 0.8948 - val_accuracy: 0.6324\n",
      "Epoch 8/10\n",
      "179/179 [==============================] - 8s 43ms/step - loss: 0.1951 - accuracy: 0.9285 - val_loss: 0.8465 - val_accuracy: 0.6324\n",
      "Epoch 9/10\n",
      "179/179 [==============================] - 4s 24ms/step - loss: 0.1899 - accuracy: 0.9278 - val_loss: 0.9889 - val_accuracy: 0.6371\n",
      "Epoch 10/10\n",
      "179/179 [==============================] - 11s 62ms/step - loss: 0.1812 - accuracy: 0.9282 - val_loss: 1.3412 - val_accuracy: 0.6114\n",
      "47/47 [==============================] - 0s 9ms/step - loss: 1.3412 - accuracy: 0.6114\n",
      "Epoch 1/10\n",
      "185/185 [==============================] - 14s 66ms/step - loss: 0.6525 - accuracy: 0.5969 - val_loss: 0.6210 - val_accuracy: 0.7326\n",
      "Epoch 2/10\n",
      "185/185 [==============================] - 16s 88ms/step - loss: 0.4714 - accuracy: 0.7860 - val_loss: 0.6164 - val_accuracy: 0.7233\n",
      "Epoch 3/10\n",
      "185/185 [==============================] - 21s 113ms/step - loss: 0.4232 - accuracy: 0.8092 - val_loss: 0.7323 - val_accuracy: 0.6553\n",
      "Epoch 4/10\n",
      "185/185 [==============================] - 23s 125ms/step - loss: 0.3858 - accuracy: 0.8304 - val_loss: 0.8488 - val_accuracy: 0.6128\n",
      "Epoch 5/10\n",
      "185/185 [==============================] - 21s 116ms/step - loss: 0.3720 - accuracy: 0.8385 - val_loss: 0.8654 - val_accuracy: 0.6059\n",
      "Epoch 6/10\n",
      "185/185 [==============================] - 21s 114ms/step - loss: 0.3472 - accuracy: 0.8551 - val_loss: 1.0045 - val_accuracy: 0.6059\n",
      "Epoch 7/10\n",
      "185/185 [==============================] - 24s 128ms/step - loss: 0.3356 - accuracy: 0.8652 - val_loss: 0.9427 - val_accuracy: 0.6105\n",
      "Epoch 8/10\n",
      "185/185 [==============================] - 36s 193ms/step - loss: 0.3211 - accuracy: 0.8707 - val_loss: 0.8584 - val_accuracy: 0.6352\n",
      "Epoch 9/10\n",
      "185/185 [==============================] - 43s 232ms/step - loss: 0.2992 - accuracy: 0.8830 - val_loss: 0.9127 - val_accuracy: 0.6252\n",
      "Epoch 10/10\n",
      "185/185 [==============================] - 30s 163ms/step - loss: 0.2811 - accuracy: 0.8883 - val_loss: 1.1534 - val_accuracy: 0.6144\n",
      "41/41 [==============================] - 1s 28ms/step - loss: 1.1534 - accuracy: 0.6144\n",
      "Epoch 1/10\n",
      "179/179 [==============================] - 39s 192ms/step - loss: 0.6419 - accuracy: 0.5784 - val_loss: 0.6788 - val_accuracy: 0.5185\n",
      "Epoch 2/10\n",
      "179/179 [==============================] - 16s 92ms/step - loss: 0.5354 - accuracy: 0.7373 - val_loss: 0.6481 - val_accuracy: 0.6180\n",
      "Epoch 3/10\n",
      "179/179 [==============================] - 22s 122ms/step - loss: 0.4146 - accuracy: 0.8301 - val_loss: 0.5125 - val_accuracy: 0.7431\n",
      "Epoch 4/10\n",
      "179/179 [==============================] - 28s 156ms/step - loss: 0.3520 - accuracy: 0.8560 - val_loss: 0.5657 - val_accuracy: 0.7619\n",
      "Epoch 5/10\n",
      "179/179 [==============================] - 33s 183ms/step - loss: 0.3314 - accuracy: 0.8696 - val_loss: 0.5376 - val_accuracy: 0.7572\n",
      "Epoch 6/10\n",
      "179/179 [==============================] - 39s 219ms/step - loss: 0.3144 - accuracy: 0.8764 - val_loss: 0.5023 - val_accuracy: 0.7740\n",
      "Epoch 7/10\n",
      "179/179 [==============================] - 52s 290ms/step - loss: 0.2903 - accuracy: 0.8957 - val_loss: 0.5868 - val_accuracy: 0.7371\n",
      "Epoch 8/10\n",
      "179/179 [==============================] - 29s 164ms/step - loss: 0.2667 - accuracy: 0.8992 - val_loss: 0.5036 - val_accuracy: 0.8003\n",
      "Epoch 9/10\n",
      "179/179 [==============================] - 34s 188ms/step - loss: 0.2538 - accuracy: 0.9046 - val_loss: 0.5018 - val_accuracy: 0.8009\n",
      "Epoch 10/10\n",
      "179/179 [==============================] - 30s 169ms/step - loss: 0.2499 - accuracy: 0.9055 - val_loss: 0.5240 - val_accuracy: 0.7814\n",
      "47/47 [==============================] - 2s 47ms/step - loss: 0.5240 - accuracy: 0.7814\n",
      "Epoch 1/10\n",
      "179/179 [==============================] - 59s 281ms/step - loss: 0.6044 - accuracy: 0.6579 - val_loss: 0.8731 - val_accuracy: 0.3069\n",
      "Epoch 2/10\n",
      "179/179 [==============================] - 36s 201ms/step - loss: 0.4216 - accuracy: 0.8229 - val_loss: 0.8084 - val_accuracy: 0.3499\n",
      "Epoch 3/10\n",
      "179/179 [==============================] - 30s 167ms/step - loss: 0.3510 - accuracy: 0.8630 - val_loss: 0.7136 - val_accuracy: 0.4872\n",
      "Epoch 4/10\n",
      "179/179 [==============================] - 37s 208ms/step - loss: 0.3175 - accuracy: 0.8835 - val_loss: 0.5459 - val_accuracy: 0.7887\n",
      "Epoch 5/10\n",
      "179/179 [==============================] - 34s 193ms/step - loss: 0.2386 - accuracy: 0.9129 - val_loss: 0.5098 - val_accuracy: 0.7779\n",
      "Epoch 9/10\n",
      "179/179 [==============================] - 43s 238ms/step - loss: 0.2359 - accuracy: 0.9181 - val_loss: 0.5372 - val_accuracy: 0.7598\n",
      "Epoch 10/10\n",
      "179/179 [==============================] - 37s 209ms/step - loss: 0.2231 - accuracy: 0.9197 - val_loss: 0.5430 - val_accuracy: 0.7349\n",
      "47/47 [==============================] - 2s 37ms/step - loss: 0.5430 - accuracy: 0.7349 0s - loss: 0.5454 - accuracy\n"
     ]
    }
   ],
   "source": [
    "accuracy=[] \n",
    "for train_index,val_index in gkf.split(epochs_array,epochs_labels,groups=groups_array): \n",
    "    train_features,train_labels=epochs_array[train_index],epochs_labels[train_index] \n",
    "    val_features,val_labels=epochs_array[val_index],epochs_labels[val_index] \n",
    "    scaler=StandardScaler() \n",
    "    train_features=scaler.fit_transform(train_features.reshape(-1,train_features.shape[-1])).reshape(train_features.shape)\n",
    "    val_features=scaler.transform(val_features.reshape(-1,val_features.shape[-1])).reshape(val_features.shape)\n",
    "                            #val_features.shape[-1])).reshape(val_features.shape)\n",
    "    model=cnnmodel() \n",
    "    model.fit(train_features,train_labels,epochs=10,validation_data=(val_features,val_labels)) \n",
    "    accuracy.append(model.evaluate(val_features,val_labels)[1])\n",
    "                                                                           "
   ]
  },
  {
   "cell_type": "code",
   "execution_count": 41,
   "id": "c7308193",
   "metadata": {},
   "outputs": [
    {
     "data": {
      "text/plain": [
       "0.7182102084159852"
      ]
     },
     "execution_count": 41,
     "metadata": {},
     "output_type": "execute_result"
    }
   ],
   "source": [
    "np.mean(accuracy)"
   ]
  },
  {
   "cell_type": "code",
   "execution_count": 42,
   "id": "0f7d79f7",
   "metadata": {},
   "outputs": [
    {
     "name": "stdout",
     "output_type": "stream",
     "text": [
      "[0.8490048050880432, 0.6113743782043457, 0.614374041557312, 0.7814391255378723, 0.7348586916923523]\n"
     ]
    }
   ],
   "source": [
    "print(accuracy)  # additional"
   ]
  },
  {
   "cell_type": "code",
   "execution_count": null,
   "id": "e6aabc9d",
   "metadata": {},
   "outputs": [],
   "source": []
  }
 ],
 "metadata": {
  "kernelspec": {
   "display_name": "Python 3 (ipykernel)",
   "language": "python",
   "name": "python3"
  },
  "language_info": {
   "codemirror_mode": {
    "name": "ipython",
    "version": 3
   },
   "file_extension": ".py",
   "mimetype": "text/x-python",
   "name": "python",
   "nbconvert_exporter": "python",
   "pygments_lexer": "ipython3",
   "version": "3.8.11"
  }
 },
 "nbformat": 4,
 "nbformat_minor": 5
}
